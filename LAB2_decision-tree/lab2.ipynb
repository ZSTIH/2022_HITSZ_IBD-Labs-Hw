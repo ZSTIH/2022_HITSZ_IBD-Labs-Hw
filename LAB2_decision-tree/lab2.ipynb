{
 "cells": [
  {
   "cell_type": "code",
   "execution_count": null,
   "id": "83865623",
   "metadata": {},
   "outputs": [],
   "source": [
    "import pandas as pd\n",
    "import numpy as np\n",
    "import matplotlib.pyplot as plt\n",
    "import seaborn as sns\n",
    "import collections\n",
    "import random"
   ]
  },
  {
   "cell_type": "markdown",
   "id": "1f152642",
   "metadata": {},
   "source": [
    "## 0、数据处理成csv形式"
   ]
  },
  {
   "cell_type": "code",
   "execution_count": null,
   "id": "8eb38d83",
   "metadata": {},
   "outputs": [],
   "source": [
    "columns = ['age', 'workclass', 'fnlwgt', 'education', 'educationNum', 'maritalStatus', 'occupation', 'relationship', 'race', 'sex',\n",
    "          'capitalGain', 'capitalLoss', 'hoursPerWeek', 'nativeCountry', 'income']\n",
    "df_train_set = pd.read_csv('./adult.data', names=columns)\n",
    "df_test_set = pd.read_csv('./adult.test', names=columns, skiprows=1) #第一行是非法数据\n",
    "\n",
    "print(df_train_set.head())\n",
    "print(df_test_set.head())\n",
    "df_train_set.to_csv('./train_adult.csv', index=False)\n",
    "df_test_set.to_csv('./test_adult.csv', index=False)"
   ]
  },
  {
   "cell_type": "code",
   "execution_count": null,
   "id": "1ff96a48",
   "metadata": {},
   "outputs": [],
   "source": [
    "df_test_set.head()"
   ]
  },
  {
   "cell_type": "code",
   "execution_count": null,
   "id": "bccd1129",
   "metadata": {},
   "outputs": [],
   "source": [
    "len(df_train_set), len(df_test_set), len(df_test_set.columns)"
   ]
  },
  {
   "cell_type": "markdown",
   "id": "58d8c776",
   "metadata": {},
   "source": [
    "## 1、数据读取"
   ]
  },
  {
   "cell_type": "code",
   "execution_count": null,
   "id": "f840bf38",
   "metadata": {},
   "outputs": [],
   "source": [
    "df_train_set = pd.read_csv('./train_adult.csv')\n",
    "df_train_set"
   ]
  },
  {
   "cell_type": "markdown",
   "id": "0b499c4f-bd4f-415d-9311-211091a18f39",
   "metadata": {},
   "source": [
    "## 2、数据预处理"
   ]
  },
  {
   "cell_type": "markdown",
   "id": "a751e794",
   "metadata": {},
   "source": [
    "### 2.1 删除对应属性"
   ]
  },
  {
   "cell_type": "code",
   "execution_count": null,
   "id": "ac775bfc",
   "metadata": {},
   "outputs": [],
   "source": [
    "df_train_set.drop(['fnlwgt', 'educationNum'], axis=1, inplace=True) # fnlwgt列用处不大，educationNum与education类似\n",
    "print(df_train_set.columns)"
   ]
  },
  {
   "cell_type": "markdown",
   "id": "5f8752b9",
   "metadata": {},
   "source": [
    "### 2.2 重复行记录处理"
   ]
  },
  {
   "cell_type": "code",
   "execution_count": null,
   "id": "eac9368e",
   "metadata": {},
   "outputs": [],
   "source": [
    "df_train_set.drop_duplicates(inplace=True) # 去除重复行"
   ]
  },
  {
   "cell_type": "code",
   "execution_count": null,
   "id": "2b4a6e46",
   "metadata": {},
   "outputs": [],
   "source": [
    "df_train_set"
   ]
  },
  {
   "cell_type": "markdown",
   "id": "2dc7f88f",
   "metadata": {},
   "source": [
    "### 2.3 缺失值处理"
   ]
  },
  {
   "cell_type": "code",
   "execution_count": null,
   "id": "d319533f",
   "metadata": {},
   "outputs": [],
   "source": [
    "df_train_set[df_train_set.isna().values == True] # 输出有缺失值的数据行"
   ]
  },
  {
   "cell_type": "code",
   "execution_count": null,
   "id": "c4f703f0",
   "metadata": {},
   "outputs": [],
   "source": [
    "df_train_set.dropna(inplace=True) # 去除空行 "
   ]
  },
  {
   "cell_type": "markdown",
   "id": "2ac0318d",
   "metadata": {},
   "source": [
    "### 2.4 查看列类型"
   ]
  },
  {
   "cell_type": "code",
   "execution_count": null,
   "id": "5beb63f5",
   "metadata": {},
   "outputs": [],
   "source": [
    "df_train_set.dtypes"
   ]
  },
  {
   "cell_type": "markdown",
   "id": "5845bc34",
   "metadata": {},
   "source": [
    "### 2.5 异常值处理"
   ]
  },
  {
   "cell_type": "code",
   "execution_count": null,
   "id": "0362dee5",
   "metadata": {},
   "outputs": [],
   "source": [
    "df_train_set[df_train_set['workclass'].str.contains(r'\\?', regex=True)] # 查找异常值, 避免与正则表达式的?冲突需要转义"
   ]
  },
  {
   "cell_type": "code",
   "execution_count": null,
   "id": "c9a08cfe",
   "metadata": {},
   "outputs": [],
   "source": [
    "df_train_set=df_train_set[~df_train_set['workclass'].str.contains(r'\\?', regex=True)]\n",
    "df_train_set"
   ]
  },
  {
   "cell_type": "code",
   "execution_count": null,
   "id": "debec8c4",
   "metadata": {},
   "outputs": [],
   "source": [
    "#删除有异常值的行\n",
    "new_columns = ['workclass', 'education', 'maritalStatus', 'occupation', 'relationship', 'race', 'sex',\n",
    "               'nativeCountry', 'income']\n",
    "for col in new_columns:\n",
    "        df_train_set = df_train_set[~df_train_set[col].str.contains(r'\\?', regex=True)]\n",
    "df_train_set.head()"
   ]
  },
  {
   "cell_type": "markdown",
   "id": "8af9d211",
   "metadata": {},
   "source": [
    "### 2.6 数据可视化，以年龄为例"
   ]
  },
  {
   "cell_type": "code",
   "execution_count": null,
   "id": "ec4bab13",
   "metadata": {},
   "outputs": [],
   "source": [
    "df_train_set['age'].plot.hist()"
   ]
  },
  {
   "cell_type": "code",
   "execution_count": null,
   "id": "a03b310e",
   "metadata": {},
   "outputs": [],
   "source": [
    "df_train_set['age'].value_counts().sort_index().plot.line()"
   ]
  },
  {
   "cell_type": "code",
   "execution_count": null,
   "id": "c0c7e31e",
   "metadata": {},
   "outputs": [],
   "source": [
    "# 画出年龄与收入的关系\n",
    "\n",
    "df_train_set = df_train_set.reset_index(drop=True) #重置索引\n",
    "df_train_set['age'].isnull() == True\n",
    "s=df_train_set['age'].value_counts()\n",
    "k=df_train_set['age'][df_train_set['income']==' >50K'].value_counts()\n",
    "sns.set_style(\"whitegrid\")\n",
    "f, ax = plt.subplots(figsize=(18, 9))\n",
    "sns.set_color_codes(\"pastel\")\n",
    "sns.barplot(x=s.index,y=s.values,label='total',color=\"b\")\n",
    "sns.barplot(x=k.index,y=k.values,label='income>50K',color=\"g\")\n",
    "ax.legend(ncol=2, loc=\"upper left\", frameon=True)"
   ]
  },
  {
   "cell_type": "markdown",
   "id": "f8ccedf7",
   "metadata": {},
   "source": [
    "### 2.7 连续型变量处理"
   ]
  },
  {
   "cell_type": "code",
   "execution_count": null,
   "id": "ba523716",
   "metadata": {},
   "outputs": [],
   "source": [
    "continuous_column = ['age', 'capitalGain', 'capitalLoss', 'hoursPerWeek']"
   ]
  },
  {
   "cell_type": "code",
   "execution_count": null,
   "id": "8beefdd4",
   "metadata": {},
   "outputs": [],
   "source": [
    "df_train_set['age'].max(), df_train_set['age'].min()"
   ]
  },
  {
   "cell_type": "code",
   "execution_count": null,
   "id": "7bc20bcb",
   "metadata": {},
   "outputs": [],
   "source": [
    "df_train_set['age'].head() "
   ]
  },
  {
   "cell_type": "code",
   "execution_count": null,
   "id": "e215575c",
   "metadata": {},
   "outputs": [],
   "source": [
    "bins = [0, 25, 50, 75, 100] # 分箱区间左开右闭 (0, 25], (25, 50], ...\n",
    "df_train_set['age'] = pd.cut(df_train_set['age'], bins, labels=False)"
   ]
  },
  {
   "cell_type": "code",
   "execution_count": null,
   "id": "0edf5ccd",
   "metadata": {},
   "outputs": [],
   "source": [
    "df_train_set['age'].head() "
   ]
  },
  {
   "cell_type": "markdown",
   "id": "4e6e9650",
   "metadata": {},
   "source": [
    "### 2.8 离散型变量处理"
   ]
  },
  {
   "cell_type": "code",
   "execution_count": null,
   "id": "c31eef6e",
   "metadata": {},
   "outputs": [],
   "source": [
    "discrete_column = ['workclass', 'education', 'maritalStatus', 'occupation', 'relationship', 'race', 'sex', 'nativeCountry', 'income']"
   ]
  },
  {
   "cell_type": "code",
   "execution_count": null,
   "id": "51497367",
   "metadata": {},
   "outputs": [],
   "source": [
    "df_train_set['workclass'].value_counts()"
   ]
  },
  {
   "cell_type": "code",
   "execution_count": null,
   "id": "8ac74e85",
   "metadata": {},
   "outputs": [],
   "source": [
    "df_train_set['workclass'].head() #展示前五条"
   ]
  },
  {
   "cell_type": "code",
   "execution_count": null,
   "id": "612dce08",
   "metadata": {},
   "outputs": [],
   "source": [
    "df_train_set['workclass'].value_counts().keys()"
   ]
  },
  {
   "cell_type": "code",
   "execution_count": null,
   "id": "9509c2db",
   "metadata": {},
   "outputs": [],
   "source": [
    "workclass_mapping = {' Private': 0, ' Self-emp-not-inc': 1, ' Self-emp-inc': 1, ' Local-gov': 2, \n",
    "                     ' State-gov': 2, ' Federal-gov': 2, ' Without-pay': 3, ' Never-worked': 3}\n",
    "df_train_set['workclass'] = df_train_set['workclass'].map(workclass_mapping)"
   ]
  },
  {
   "cell_type": "code",
   "execution_count": null,
   "id": "7c7c3d0f",
   "metadata": {},
   "outputs": [],
   "source": [
    "df_train_set['workclass'].head()"
   ]
  },
  {
   "cell_type": "markdown",
   "id": "34d620a6",
   "metadata": {},
   "source": [
    "## 3. 构造决策树，进行训练"
   ]
  },
  {
   "cell_type": "code",
   "execution_count": null,
   "id": "79903ba3",
   "metadata": {},
   "outputs": [],
   "source": [
    "def calc_gini(df):\n",
    "    \"\"\"\n",
    "    计算数据集的基尼指数\n",
    "    :param df: 数据集\n",
    "    :return: 基尼指数\n",
    "    \"\"\"\n",
    "    \n",
    "\n",
    "def split_dataset(df, index, value):\n",
    "    \"\"\"\n",
    "    按照给定的列划分数据集\n",
    "    :param df: 原始数据集\n",
    "    :param index: 指定特征的列索引\n",
    "    :param value: 指定特征的值\n",
    "    :return: 切分后的数据集\n",
    "    \"\"\"\n",
    "    \n",
    "    \n",
    "def choose_best_feature_to_split(df):\n",
    "    \"\"\"\n",
    "    选择最好的特征进行分裂\n",
    "    :param df: 数据集\n",
    "    :return: best_value:(分裂特征的index, 特征的值), best_df:(分裂后的左右子树数据集), best_gain:(选择该属性分裂的最大信息增益)\n",
    "    \"\"\"\n",
    "\n",
    "\n",
    "def build_decision_tree(df, columns, flags):\n",
    "    \"\"\"\n",
    "    构建CART树\n",
    "    :param df: 数据集\n",
    "    :param columns: 特征列表\n",
    "    :param flags: 区分特征是否被完全区分开,初始为全0, 若某个特征被区分开那么flags对应的下标为0\n",
    "    :return: CART树\n",
    "    \"\"\"\n",
    "    \n",
    "    # 递归结束情况1: 若当前集合的所有样本标签相等,即样本已被分\"纯\",则可以返回该标签值作为一个叶子节点\n",
    "    # 递归结束情况2: 若当前训练集的所有特征都被使用完毕,当前无可用特征但样本仍未分\"纯\"，则返回样本最多的标签作为结果\n",
    "    \n",
    "    \n",
    "def save_decision_tree(cart):\n",
    "    \"\"\"\n",
    "    决策树的存储\n",
    "    :param cart: 训练好的决策树\n",
    "    :return: void\n",
    "    \"\"\"\n",
    "    np.save('cart.npy', cart)\n",
    "    \n",
    "    \n",
    "def load_decision_tree():\n",
    "    \"\"\"\n",
    "    决策树的加载\n",
    "    :return: 保存的决策树\n",
    "    \"\"\"    \n",
    "    \n",
    "    cart = np.load('cart.npy', allow_pickle=True)\n",
    "    return cart.item()\n"
   ]
  },
  {
   "cell_type": "code",
   "execution_count": null,
   "id": "c73fc3f9",
   "metadata": {},
   "outputs": [],
   "source": [
    "df_train = df_train_set.copy() #防止预处理重新来"
   ]
  },
  {
   "cell_type": "code",
   "execution_count": null,
   "id": "75c305eb",
   "metadata": {},
   "outputs": [],
   "source": [
    "columns = df_train.columns.to_list()\n",
    "flags = [0 for i in range(len(columns))]"
   ]
  },
  {
   "cell_type": "code",
   "execution_count": null,
   "id": "9b562b12",
   "metadata": {},
   "outputs": [],
   "source": [
    "df_train.head()"
   ]
  },
  {
   "cell_type": "code",
   "execution_count": null,
   "id": "e05a0578",
   "metadata": {},
   "outputs": [],
   "source": [
    "cart = build_decision_tree(df_train, columns, flags)\n",
    "save_decision_tree(cart)"
   ]
  },
  {
   "cell_type": "markdown",
   "id": "c7b0db06",
   "metadata": {},
   "source": [
    "## 4. 评估"
   ]
  },
  {
   "cell_type": "code",
   "execution_count": null,
   "id": "59a39e20",
   "metadata": {},
   "outputs": [],
   "source": [
    "def classify(cart, df_row, columns):\n",
    "    \"\"\"\n",
    "    用训练好的决策树进行分类\n",
    "    :param cart:决策树模型\n",
    "    :param df_row: 一条测试样本\n",
    "    :param columns: 特征列表\n",
    "    :return: 预测结果\n",
    "    \"\"\"\n",
    "    \n",
    "\n",
    "\n",
    "def predict(cart, df, columns):\n",
    "    \"\"\"\n",
    "    用训练好的决策树进行分类\n",
    "    :param cart:决策树模型\n",
    "    :param df: 所有测试集\n",
    "    :param columns: 特征列表\n",
    "    :return: 预测结果\n",
    "    \"\"\"\n",
    "    pred_list = []\n",
    "    for i in range(len(df)):\n",
    "        pred_label = classify(cart, df.iloc[i,:], columns)\n",
    "        if pred_label == -1:\n",
    "            pred_label = random.randint(0, 1) # 防止classify执行到返回-1,但一般不会执行到返回-1\n",
    "        pred_list.append(pred_label)\n",
    "    return pred_list\n",
    "\n",
    "def calc_acc(pred_list, test_list):\n",
    "    \"\"\"\n",
    "    返回预测准确率\n",
    "    :param pred_list: 预测列表\n",
    "    :param test_list: 测试列表\n",
    "    :return: 准确率\n",
    "    \"\"\"\n",
    "    pred = np.array(pred_list)\n",
    "    test = np.array(test_list)\n",
    "    acc = np.sum(pred_list == test_list) / len(test_list)\n",
    "    return acc"
   ]
  },
  {
   "cell_type": "markdown",
   "id": "e4022a5b",
   "metadata": {},
   "source": [
    "## 5. Demo"
   ]
  },
  {
   "cell_type": "markdown",
   "id": "ad375aa3",
   "metadata": {},
   "source": [
    "#### (1) 下面只是测试模型能不能跑通,实际操作时需要用测试集进行评估\n",
    "#### (2) 此外，测试集应该需要做和训练集一样的预处理操作"
   ]
  },
  {
   "cell_type": "code",
   "execution_count": null,
   "id": "255d70ff",
   "metadata": {},
   "outputs": [],
   "source": [
    "columns = df_train.columns.to_list()"
   ]
  },
  {
   "cell_type": "code",
   "execution_count": null,
   "id": "e7759198",
   "metadata": {},
   "outputs": [],
   "source": [
    "cart = load_decision_tree() # 加载模型"
   ]
  },
  {
   "cell_type": "code",
   "execution_count": null,
   "id": "c5be5e1e",
   "metadata": {},
   "outputs": [],
   "source": [
    "test_list = df_train['income'].to_numpy()\n",
    "pred_list = predict(cart, df_train, columns)"
   ]
  },
  {
   "cell_type": "code",
   "execution_count": null,
   "id": "76f41d4c",
   "metadata": {},
   "outputs": [],
   "source": [
    "acc = calc_acc(pred_list, test_list)"
   ]
  },
  {
   "cell_type": "code",
   "execution_count": null,
   "id": "dee49d56",
   "metadata": {},
   "outputs": [],
   "source": [
    "acc"
   ]
  }
 ],
 "metadata": {
  "kernelspec": {
   "display_name": "Python 3.9.12 ('base')",
   "language": "python",
   "name": "python3"
  },
  "language_info": {
   "codemirror_mode": {
    "name": "ipython",
    "version": 3
   },
   "file_extension": ".py",
   "mimetype": "text/x-python",
   "name": "python",
   "nbconvert_exporter": "python",
   "pygments_lexer": "ipython3",
   "version": "3.9.12"
  },
  "vscode": {
   "interpreter": {
    "hash": "7600fbc6fd439d66cebe58d8829cae093d4fbb11408f269d0e18344e38b730a5"
   }
  }
 },
 "nbformat": 4,
 "nbformat_minor": 5
}
